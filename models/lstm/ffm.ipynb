{
 "cells": [
  {
   "cell_type": "code",
   "execution_count": 3,
   "metadata": {},
   "outputs": [
    {
     "data": {
      "text/plain": [
       "array([[[3, 6, 4],\n",
       "        [9, 4, 1],\n",
       "        [7, 6, 8]],\n",
       "\n",
       "       [[4, 5, 5],\n",
       "        [7, 4, 7],\n",
       "        [5, 5, 6]],\n",
       "\n",
       "       [[1, 5, 4],\n",
       "        [6, 5, 2],\n",
       "        [7, 7, 9]]])"
      ]
     },
     "execution_count": 3,
     "metadata": {},
     "output_type": "execute_result"
    }
   ],
   "source": [
    "import numpy as np\n",
    "data = np.random.randint(1,10,size=(3,3,3))\n",
    "#data = np.array_split(data, 6)\n",
    "data"
   ]
  },
  {
   "cell_type": "code",
   "execution_count": 59,
   "metadata": {},
   "outputs": [
    {
     "data": {
      "text/plain": [
       "array([[[9, 6, 7, 4, 7, 4, 5, 3, 3, 7, 4, 7, 3, 1, 8, 1, 1, 3, 7, 1, 1,\n",
       "         3, 1, 7],\n",
       "        [2, 3, 7, 5, 4, 4, 2, 1, 1, 5, 1, 8, 9, 5, 2, 6, 3, 4, 9, 9, 5,\n",
       "         3, 7, 5],\n",
       "        [4, 6, 2, 6, 4, 6, 2, 7, 9, 9, 3, 7, 1, 9, 5, 9, 4, 7, 6, 4, 4,\n",
       "         6, 8, 3],\n",
       "        [9, 7, 5, 3, 9, 3, 7, 4, 5, 7, 7, 4, 6, 8, 2, 4, 3, 3, 1, 5, 4,\n",
       "         9, 6, 7],\n",
       "        [5, 3, 7, 7, 3, 9, 6, 6, 5, 8, 1, 9, 8, 8, 6, 9, 5, 5, 9, 9, 1,\n",
       "         1, 3, 1]],\n",
       "\n",
       "       [[5, 1, 8, 8, 1, 3, 1, 9, 9, 8, 8, 4, 8, 2, 6, 2, 5, 3, 2, 5, 6,\n",
       "         3, 5, 8],\n",
       "        [3, 2, 6, 8, 4, 9, 5, 1, 2, 7, 7, 4, 4, 3, 5, 7, 2, 6, 3, 8, 9,\n",
       "         4, 2, 3],\n",
       "        [6, 3, 3, 2, 1, 1, 5, 9, 4, 7, 4, 5, 4, 5, 8, 1, 1, 2, 7, 4, 7,\n",
       "         2, 3, 1],\n",
       "        [4, 9, 8, 7, 5, 6, 8, 7, 4, 2, 4, 3, 4, 2, 4, 9, 7, 7, 8, 9, 3,\n",
       "         5, 5, 1],\n",
       "        [8, 5, 6, 4, 7, 8, 6, 4, 7, 1, 8, 4, 3, 1, 1, 7, 4, 3, 4, 8, 6,\n",
       "         6, 4, 5]]])"
      ]
     },
     "execution_count": 59,
     "metadata": {},
     "output_type": "execute_result"
    }
   ],
   "source": [
    "data[:,-1,:]"
   ]
  }
 ],
 "metadata": {
  "kernelspec": {
   "display_name": "Python 3.10.4 64-bit",
   "language": "python",
   "name": "python3"
  },
  "language_info": {
   "codemirror_mode": {
    "name": "ipython",
    "version": 3
   },
   "file_extension": ".py",
   "mimetype": "text/x-python",
   "name": "python",
   "nbconvert_exporter": "python",
   "pygments_lexer": "ipython3",
   "version": "3.10.4"
  },
  "orig_nbformat": 4,
  "vscode": {
   "interpreter": {
    "hash": "f37b0933046d17236b4a2285659180dc1754a1f3df7ac3bfda5358a4d364b0fa"
   }
  }
 },
 "nbformat": 4,
 "nbformat_minor": 2
}
